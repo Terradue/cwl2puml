{
 "cells": [
  {
   "cell_type": "markdown",
   "id": "8358e29c",
   "metadata": {},
   "source": [
    "# Examples\n",
    "\n",
    "The following examples show how to use the loader APIs:"
   ]
  },
  {
   "cell_type": "markdown",
   "id": "49492847",
   "metadata": {},
   "source": [
    "## 1. Parsing\n",
    "\n",
    "This sample shows how to read a CWL document from a remote public URL:"
   ]
  },
  {
   "cell_type": "code",
   "execution_count": null,
   "id": "f5976049",
   "metadata": {},
   "outputs": [
    {
     "name": "stderr",
     "output_type": "stream",
     "text": [
      "\u001b[32m2025-08-11 14:33:58.236\u001b[0m | \u001b[1mINFO    \u001b[0m | \u001b[36mcwl_loader\u001b[0m:\u001b[36mload_cwl_from_location\u001b[0m:\u001b[36m186\u001b[0m - \u001b[1mLoading CWL document from https://raw.githubusercontent.com/eoap/schemas/main/experimental/stac-api-client.cwl...\u001b[0m\n",
      "\u001b[32m2025-08-11 14:33:58.424\u001b[0m | \u001b[1mINFO    \u001b[0m | \u001b[36mcwl_loader\u001b[0m:\u001b[36mload_cwl_from_yaml\u001b[0m:\u001b[36m117\u001b[0m - \u001b[1mUpdating the model to v1.2...\u001b[0m\n",
      "\u001b[32m2025-08-11 14:33:58.429\u001b[0m | \u001b[1mINFO    \u001b[0m | \u001b[36mcwl_loader\u001b[0m:\u001b[36mload_cwl_from_yaml\u001b[0m:\u001b[36m128\u001b[0m - \u001b[1mRaw CWL document successfully updated to v1.2! Now converting to the CWL model...\u001b[0m\n",
      "\u001b[32m2025-08-11 14:34:09.071\u001b[0m | \u001b[1mINFO    \u001b[0m | \u001b[36mcwl_loader\u001b[0m:\u001b[36mload_cwl_from_yaml\u001b[0m:\u001b[36m136\u001b[0m - \u001b[1mRaw CWL document successfully updated to v1.2! Now dereferencing the FQNs...\u001b[0m\n",
      "\u001b[32m2025-08-11 14:34:09.072\u001b[0m | \u001b[1mINFO    \u001b[0m | \u001b[36mcwl_loader\u001b[0m:\u001b[36m_clean_process\u001b[0m:\u001b[36m62\u001b[0m - \u001b[1m  Cleaning CommandLineTool stac-client...\u001b[0m\n",
      "\u001b[32m2025-08-11 14:34:09.073\u001b[0m | \u001b[1mINFO    \u001b[0m | \u001b[36mcwl_loader\u001b[0m:\u001b[36mload_cwl_from_yaml\u001b[0m:\u001b[36m144\u001b[0m - \u001b[1mCWL document successfully dereferenced!\u001b[0m\n"
     ]
    }
   ],
   "source": [
    "from cwl_loader import load_cwl_from_location\n",
    "\n",
    "cwl_document = load_cwl_from_location('https://raw.githubusercontent.com/eoap/ogc-api-processes-with-zoo/refs/heads/feature-EOEPCA-469/cwl-workflows/eoap-api-cli.cwl')"
   ]
  },
  {
   "cell_type": "markdown",
   "id": "3acc5f44",
   "metadata": {},
   "source": [
    "## 2. Serializing\n",
    "\n",
    "This sample shows how to write a CWL document to a stream (string, file, ...):"
   ]
  },
  {
   "cell_type": "code",
   "execution_count": null,
   "id": "0c16376b",
   "metadata": {},
   "outputs": [
    {
     "ename": "TypeError",
     "evalue": "'CommandLineTool' object is not iterable",
     "output_type": "error",
     "traceback": [
      "\u001b[0;31m---------------------------------------------------------------------------\u001b[0m",
      "\u001b[0;31mTypeError\u001b[0m                                 Traceback (most recent call last)",
      "Cell \u001b[0;32mIn[2], line 7\u001b[0m\n\u001b[1;32m      1\u001b[0m \u001b[38;5;28;01mfrom\u001b[39;00m\u001b[38;5;250m \u001b[39m\u001b[38;5;21;01mcwl2puml\u001b[39;00m\u001b[38;5;250m \u001b[39m\u001b[38;5;28;01mimport\u001b[39;00m (\n\u001b[1;32m      2\u001b[0m     to_puml,\n\u001b[1;32m      3\u001b[0m     DiagramType\n\u001b[1;32m      4\u001b[0m )\n\u001b[1;32m      5\u001b[0m \u001b[38;5;28;01mimport\u001b[39;00m\u001b[38;5;250m \u001b[39m\u001b[38;5;21;01msys\u001b[39;00m\n\u001b[0;32m----> 7\u001b[0m \u001b[43mto_puml\u001b[49m\u001b[43m(\u001b[49m\n\u001b[1;32m      8\u001b[0m \u001b[43m    \u001b[49m\u001b[43mcwl_document\u001b[49m\u001b[38;5;241;43m=\u001b[39;49m\u001b[43mcwl_document\u001b[49m\u001b[43m,\u001b[49m\n\u001b[1;32m      9\u001b[0m \u001b[43m    \u001b[49m\u001b[43mdiagram_type\u001b[49m\u001b[38;5;241;43m=\u001b[39;49m\u001b[43mDiagramType\u001b[49m\u001b[38;5;241;43m.\u001b[39;49m\u001b[43mCOMPONENTS\u001b[49m\u001b[43m,\u001b[49m\n\u001b[1;32m     10\u001b[0m \u001b[43m    \u001b[49m\u001b[43moutput_stream\u001b[49m\u001b[38;5;241;43m=\u001b[39;49m\u001b[43msys\u001b[49m\u001b[38;5;241;43m.\u001b[39;49m\u001b[43mstderr\u001b[49m\n\u001b[1;32m     11\u001b[0m \u001b[43m)\u001b[49m\n",
      "File \u001b[0;32m~/.local/lib/python3.10/site-packages/cwl2puml/__init__.py:170\u001b[0m, in \u001b[0;36mto_puml\u001b[0;34m(cwl_document, diagram_type, output_stream)\u001b[0m\n\u001b[1;32m    167\u001b[0m sring_template \u001b[38;5;241m=\u001b[39m diagram_type\u001b[38;5;241m.\u001b[39mvalue\n\u001b[1;32m    168\u001b[0m template \u001b[38;5;241m=\u001b[39m env\u001b[38;5;241m.\u001b[39mfrom_string(sring_template)\n\u001b[0;32m--> 170\u001b[0m output_stream\u001b[38;5;241m.\u001b[39mwrite(\u001b[43mtemplate\u001b[49m\u001b[38;5;241;43m.\u001b[39;49m\u001b[43mrender\u001b[49m\u001b[43m(\u001b[49m\u001b[43mworkflows\u001b[49m\u001b[38;5;241;43m=\u001b[39;49m\u001b[43mcwl_document\u001b[49m\u001b[43m)\u001b[49m)\n",
      "File \u001b[0;32m~/.local/lib/python3.10/site-packages/jinja2/environment.py:1295\u001b[0m, in \u001b[0;36mTemplate.render\u001b[0;34m(self, *args, **kwargs)\u001b[0m\n\u001b[1;32m   1293\u001b[0m     \u001b[38;5;28;01mreturn\u001b[39;00m \u001b[38;5;28mself\u001b[39m\u001b[38;5;241m.\u001b[39menvironment\u001b[38;5;241m.\u001b[39mconcat(\u001b[38;5;28mself\u001b[39m\u001b[38;5;241m.\u001b[39mroot_render_func(ctx))  \u001b[38;5;66;03m# type: ignore\u001b[39;00m\n\u001b[1;32m   1294\u001b[0m \u001b[38;5;28;01mexcept\u001b[39;00m \u001b[38;5;167;01mException\u001b[39;00m:\n\u001b[0;32m-> 1295\u001b[0m     \u001b[38;5;28;43mself\u001b[39;49m\u001b[38;5;241;43m.\u001b[39;49m\u001b[43menvironment\u001b[49m\u001b[38;5;241;43m.\u001b[39;49m\u001b[43mhandle_exception\u001b[49m\u001b[43m(\u001b[49m\u001b[43m)\u001b[49m\n",
      "File \u001b[0;32m~/.local/lib/python3.10/site-packages/jinja2/environment.py:942\u001b[0m, in \u001b[0;36mEnvironment.handle_exception\u001b[0;34m(self, source)\u001b[0m\n\u001b[1;32m    937\u001b[0m \u001b[38;5;250m\u001b[39m\u001b[38;5;124;03m\"\"\"Exception handling helper.  This is used internally to either raise\u001b[39;00m\n\u001b[1;32m    938\u001b[0m \u001b[38;5;124;03mrewritten exceptions or return a rendered traceback for the template.\u001b[39;00m\n\u001b[1;32m    939\u001b[0m \u001b[38;5;124;03m\"\"\"\u001b[39;00m\n\u001b[1;32m    940\u001b[0m \u001b[38;5;28;01mfrom\u001b[39;00m\u001b[38;5;250m \u001b[39m\u001b[38;5;21;01m.\u001b[39;00m\u001b[38;5;21;01mdebug\u001b[39;00m\u001b[38;5;250m \u001b[39m\u001b[38;5;28;01mimport\u001b[39;00m rewrite_traceback_stack\n\u001b[0;32m--> 942\u001b[0m \u001b[38;5;28;01mraise\u001b[39;00m rewrite_traceback_stack(source\u001b[38;5;241m=\u001b[39msource)\n",
      "File \u001b[0;32m<template>:4\u001b[0m, in \u001b[0;36mtop-level template code\u001b[0;34m()\u001b[0m\n",
      "\u001b[0;31mTypeError\u001b[0m: 'CommandLineTool' object is not iterable"
     ]
    }
   ],
   "source": [
    "from cwl2puml import (\n",
    "    to_puml,\n",
    "    DiagramType\n",
    ")\n",
    "from sys import stderr\n",
    "\n",
    "to_puml(\n",
    "    cwl_document=cwl_document,\n",
    "    diagram_type=DiagramType.COMPONENTS,\n",
    "    output_stream=stderr\n",
    ")"
   ]
  }
 ],
 "metadata": {
  "kernelspec": {
   "display_name": "Python 3",
   "language": "python",
   "name": "python3"
  },
  "language_info": {
   "codemirror_mode": {
    "name": "ipython",
    "version": 3
   },
   "file_extension": ".py",
   "mimetype": "text/x-python",
   "name": "python",
   "nbconvert_exporter": "python",
   "pygments_lexer": "ipython3",
   "version": "3.10.12"
  }
 },
 "nbformat": 4,
 "nbformat_minor": 5
}
